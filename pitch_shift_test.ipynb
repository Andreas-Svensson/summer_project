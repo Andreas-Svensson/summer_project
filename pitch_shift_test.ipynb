{
 "cells": [
  {
   "cell_type": "code",
   "execution_count": 3,
   "metadata": {},
   "outputs": [],
   "source": [
    "import sounddevice as sd\n",
    "import time\n",
    "import numpy as np\n",
    "from scipy.signal import stft, istft"
   ]
  },
  {
   "cell_type": "markdown",
   "metadata": {},
   "source": [
    "# Record a 3 second voice clip"
   ]
  },
  {
   "cell_type": "code",
   "execution_count": 5,
   "metadata": {},
   "outputs": [],
   "source": [
    "fs = 44100\n",
    "duration = 3\n",
    "myrecording = sd.rec(int(duration * fs), samplerate=fs, channels=1)\n",
    "time.sleep(duration)"
   ]
  },
  {
   "cell_type": "markdown",
   "metadata": {},
   "source": [
    "## Shift pitch (changes audio duration)\n",
    "Function by Chat-GPT"
   ]
  },
  {
   "cell_type": "code",
   "execution_count": 3,
   "metadata": {},
   "outputs": [],
   "source": [
    "def pitch_shift(sound, semitone_shift):\n",
    "    # Calculate the speed change factor based on semitone_shift\n",
    "    speed_change = 2 ** (semitone_shift / 12.0)\n",
    "\n",
    "    # Set the length of the output sound array\n",
    "    n_samples = len(sound)\n",
    "    n_out = int(np.ceil(n_samples / speed_change))\n",
    "    out = np.zeros(n_out)\n",
    "\n",
    "    # Create a time index for the input sound array\n",
    "    time_in = np.arange(0, n_samples)\n",
    "\n",
    "    # Create a time index for the output sound array\n",
    "    time_out = np.arange(0, n_out) * speed_change\n",
    "\n",
    "    # Interpolate the input sound array to the output time index\n",
    "    out = np.interp(time_out, time_in, sound)\n",
    "\n",
    "    return out\n",
    "\n",
    "# Assuming your sound array is stored in a variable called \"sound_array\"\n",
    "semitone_shift = 3  # Adjust this value to change the pitch\n",
    "\n",
    "# Apply pitch shifting\n",
    "shifted_sound = pitch_shift(np.array(myrecording).flatten(), semitone_shift)\n"
   ]
  },
  {
   "cell_type": "code",
   "execution_count": 4,
   "metadata": {},
   "outputs": [],
   "source": [
    "sd.play(shifted_sound)\n",
    "time.sleep(duration)"
   ]
  },
  {
   "cell_type": "markdown",
   "metadata": {},
   "source": [
    "## Shift pitch (constant audio duration)\n",
    "Function by Chat-GPT"
   ]
  },
  {
   "cell_type": "code",
   "execution_count": 13,
   "metadata": {},
   "outputs": [],
   "source": [
    "from Scripts.wave_test import generate_waveform"
   ]
  },
  {
   "cell_type": "code",
   "execution_count": 14,
   "metadata": {},
   "outputs": [],
   "source": [
    "a = generate_waveform(440, 'sine')"
   ]
  },
  {
   "cell_type": "code",
   "execution_count": 15,
   "metadata": {},
   "outputs": [],
   "source": [
    "def pitch_shift(audio, semitones, sampling_rate):\n",
    "    # Calculate the pitch shift factor\n",
    "    factor = 2 ** (semitones / 12)\n",
    "\n",
    "    # Perform Short-Time Fourier Transform (STFT)\n",
    "    _, _, stft_data = stft(audio, fs=sampling_rate)\n",
    "\n",
    "    # Modify the frequency bins based on the pitch shift factor\n",
    "    shifted_stft_data = np.zeros_like(stft_data)\n",
    "    num_bins = stft_data.shape[0]\n",
    "    for bin_index in range(num_bins):\n",
    "        shifted_bin_index = int(bin_index / factor)\n",
    "        if shifted_bin_index < num_bins:\n",
    "            shifted_stft_data[shifted_bin_index, :] += stft_data[bin_index, :]\n",
    "\n",
    "    # Perform the Inverse Short-Time Fourier Transform (ISTFT)\n",
    "    _, shifted_audio = istft(shifted_stft_data, fs=sampling_rate)\n",
    "\n",
    "    return shifted_audio\n",
    "\n",
    "semitones = -10  # Example: Shift up by 2 semitones, or -2 to shift down\n",
    "\n",
    "shifted_audio = pitch_shift(np.array(myrecording).flatten(), semitones, 44100)\n"
   ]
  },
  {
   "cell_type": "code",
   "execution_count": 19,
   "metadata": {},
   "outputs": [],
   "source": [
    "#sd.play(a)\n",
    "#sd.wait()\n",
    "shift = pitch_shift(a, 24, fs)\n",
    "#sd.play(shift)\n",
    "#sd.wait()"
   ]
  },
  {
   "cell_type": "code",
   "execution_count": 26,
   "metadata": {},
   "outputs": [
    {
     "data": {
      "text/plain": [
       "44100"
      ]
     },
     "execution_count": 26,
     "metadata": {},
     "output_type": "execute_result"
    }
   ],
   "source": [
    "len(a)"
   ]
  },
  {
   "cell_type": "code",
   "execution_count": 27,
   "metadata": {},
   "outputs": [
    {
     "data": {
      "text/plain": [
       "44160"
      ]
     },
     "execution_count": 27,
     "metadata": {},
     "output_type": "execute_result"
    }
   ],
   "source": [
    "len(shift)"
   ]
  },
  {
   "cell_type": "code",
   "execution_count": 29,
   "metadata": {},
   "outputs": [
    {
     "ename": "AttributeError",
     "evalue": "'numpy.ndarray' object has no attribute 'pop'",
     "output_type": "error",
     "traceback": [
      "\u001b[0;31m---------------------------------------------------------------------------\u001b[0m",
      "\u001b[0;31mAttributeError\u001b[0m                            Traceback (most recent call last)",
      "Cell \u001b[0;32mIn[29], line 2\u001b[0m\n\u001b[1;32m      1\u001b[0m \u001b[39mwhile\u001b[39;00m \u001b[39mlen\u001b[39m(shift) \u001b[39m>\u001b[39m \u001b[39m44100\u001b[39m:\n\u001b[0;32m----> 2\u001b[0m     shift\u001b[39m.\u001b[39;49mpop()\n",
      "\u001b[0;31mAttributeError\u001b[0m: 'numpy.ndarray' object has no attribute 'pop'"
     ]
    }
   ],
   "source": [
    "shift = shift[0:-60]"
   ]
  },
  {
   "cell_type": "code",
   "execution_count": 25,
   "metadata": {},
   "outputs": [
    {
     "ename": "ValueError",
     "evalue": "All arrays must be of the same length",
     "output_type": "error",
     "traceback": [
      "\u001b[0;31m---------------------------------------------------------------------------\u001b[0m",
      "\u001b[0;31mValueError\u001b[0m                                Traceback (most recent call last)",
      "Cell \u001b[0;32mIn[25], line 6\u001b[0m\n\u001b[1;32m      2\u001b[0m \u001b[39mimport\u001b[39;00m \u001b[39mplotly_express\u001b[39;00m \u001b[39mas\u001b[39;00m \u001b[39mpx\u001b[39;00m\n\u001b[1;32m      4\u001b[0m t \u001b[39m=\u001b[39m np\u001b[39m.\u001b[39mlinspace(\u001b[39m0\u001b[39m, \u001b[39m0.01\u001b[39m, \u001b[39mlen\u001b[39m(a))\n\u001b[0;32m----> 6\u001b[0m df \u001b[39m=\u001b[39m pd\u001b[39m.\u001b[39;49mDataFrame({\u001b[39m'\u001b[39;49m\u001b[39mTime\u001b[39;49m\u001b[39m'\u001b[39;49m: t, \u001b[39m'\u001b[39;49m\u001b[39msine_440\u001b[39;49m\u001b[39m'\u001b[39;49m: a, \u001b[39m'\u001b[39;49m\u001b[39mtransposed\u001b[39;49m\u001b[39m'\u001b[39;49m: shift})\n\u001b[1;32m      8\u001b[0m fig \u001b[39m=\u001b[39m px\u001b[39m.\u001b[39mline(df, x\u001b[39m=\u001b[39m\u001b[39m'\u001b[39m\u001b[39mTime\u001b[39m\u001b[39m'\u001b[39m, y\u001b[39m=\u001b[39m[\u001b[39m'\u001b[39m\u001b[39msine_440\u001b[39m\u001b[39m'\u001b[39m, \u001b[39m'\u001b[39m\u001b[39mtransposed\u001b[39m\u001b[39m'\u001b[39m])\n\u001b[1;32m     10\u001b[0m fig\u001b[39m.\u001b[39mupdate_layout(\n\u001b[1;32m     11\u001b[0m     xaxis_title\u001b[39m=\u001b[39m\u001b[39m'\u001b[39m\u001b[39mTime (ms)\u001b[39m\u001b[39m'\u001b[39m,\n\u001b[1;32m     12\u001b[0m     yaxis_title\u001b[39m=\u001b[39m\u001b[39m'\u001b[39m\u001b[39mAmplitude\u001b[39m\u001b[39m'\u001b[39m)\n",
      "File \u001b[0;32m/usr/local/lib/python3.11/site-packages/pandas/core/frame.py:708\u001b[0m, in \u001b[0;36mDataFrame.__init__\u001b[0;34m(self, data, index, columns, dtype, copy)\u001b[0m\n\u001b[1;32m    702\u001b[0m     mgr \u001b[39m=\u001b[39m \u001b[39mself\u001b[39m\u001b[39m.\u001b[39m_init_mgr(\n\u001b[1;32m    703\u001b[0m         data, axes\u001b[39m=\u001b[39m{\u001b[39m\"\u001b[39m\u001b[39mindex\u001b[39m\u001b[39m\"\u001b[39m: index, \u001b[39m\"\u001b[39m\u001b[39mcolumns\u001b[39m\u001b[39m\"\u001b[39m: columns}, dtype\u001b[39m=\u001b[39mdtype, copy\u001b[39m=\u001b[39mcopy\n\u001b[1;32m    704\u001b[0m     )\n\u001b[1;32m    706\u001b[0m \u001b[39melif\u001b[39;00m \u001b[39misinstance\u001b[39m(data, \u001b[39mdict\u001b[39m):\n\u001b[1;32m    707\u001b[0m     \u001b[39m# GH#38939 de facto copy defaults to False only in non-dict cases\u001b[39;00m\n\u001b[0;32m--> 708\u001b[0m     mgr \u001b[39m=\u001b[39m dict_to_mgr(data, index, columns, dtype\u001b[39m=\u001b[39;49mdtype, copy\u001b[39m=\u001b[39;49mcopy, typ\u001b[39m=\u001b[39;49mmanager)\n\u001b[1;32m    709\u001b[0m \u001b[39melif\u001b[39;00m \u001b[39misinstance\u001b[39m(data, ma\u001b[39m.\u001b[39mMaskedArray):\n\u001b[1;32m    710\u001b[0m     \u001b[39mfrom\u001b[39;00m \u001b[39mnumpy\u001b[39;00m\u001b[39m.\u001b[39;00m\u001b[39mma\u001b[39;00m \u001b[39mimport\u001b[39;00m mrecords\n",
      "File \u001b[0;32m/usr/local/lib/python3.11/site-packages/pandas/core/internals/construction.py:481\u001b[0m, in \u001b[0;36mdict_to_mgr\u001b[0;34m(data, index, columns, dtype, typ, copy)\u001b[0m\n\u001b[1;32m    477\u001b[0m     \u001b[39melse\u001b[39;00m:\n\u001b[1;32m    478\u001b[0m         \u001b[39m# dtype check to exclude e.g. range objects, scalars\u001b[39;00m\n\u001b[1;32m    479\u001b[0m         arrays \u001b[39m=\u001b[39m [x\u001b[39m.\u001b[39mcopy() \u001b[39mif\u001b[39;00m \u001b[39mhasattr\u001b[39m(x, \u001b[39m\"\u001b[39m\u001b[39mdtype\u001b[39m\u001b[39m\"\u001b[39m) \u001b[39melse\u001b[39;00m x \u001b[39mfor\u001b[39;00m x \u001b[39min\u001b[39;00m arrays]\n\u001b[0;32m--> 481\u001b[0m \u001b[39mreturn\u001b[39;00m arrays_to_mgr(arrays, columns, index, dtype\u001b[39m=\u001b[39;49mdtype, typ\u001b[39m=\u001b[39;49mtyp, consolidate\u001b[39m=\u001b[39;49mcopy)\n",
      "File \u001b[0;32m/usr/local/lib/python3.11/site-packages/pandas/core/internals/construction.py:115\u001b[0m, in \u001b[0;36marrays_to_mgr\u001b[0;34m(arrays, columns, index, dtype, verify_integrity, typ, consolidate)\u001b[0m\n\u001b[1;32m    112\u001b[0m \u001b[39mif\u001b[39;00m verify_integrity:\n\u001b[1;32m    113\u001b[0m     \u001b[39m# figure out the index, if necessary\u001b[39;00m\n\u001b[1;32m    114\u001b[0m     \u001b[39mif\u001b[39;00m index \u001b[39mis\u001b[39;00m \u001b[39mNone\u001b[39;00m:\n\u001b[0;32m--> 115\u001b[0m         index \u001b[39m=\u001b[39m _extract_index(arrays)\n\u001b[1;32m    116\u001b[0m     \u001b[39melse\u001b[39;00m:\n\u001b[1;32m    117\u001b[0m         index \u001b[39m=\u001b[39m ensure_index(index)\n",
      "File \u001b[0;32m/usr/local/lib/python3.11/site-packages/pandas/core/internals/construction.py:655\u001b[0m, in \u001b[0;36m_extract_index\u001b[0;34m(data)\u001b[0m\n\u001b[1;32m    653\u001b[0m lengths \u001b[39m=\u001b[39m \u001b[39mlist\u001b[39m(\u001b[39mset\u001b[39m(raw_lengths))\n\u001b[1;32m    654\u001b[0m \u001b[39mif\u001b[39;00m \u001b[39mlen\u001b[39m(lengths) \u001b[39m>\u001b[39m \u001b[39m1\u001b[39m:\n\u001b[0;32m--> 655\u001b[0m     \u001b[39mraise\u001b[39;00m \u001b[39mValueError\u001b[39;00m(\u001b[39m\"\u001b[39m\u001b[39mAll arrays must be of the same length\u001b[39m\u001b[39m\"\u001b[39m)\n\u001b[1;32m    657\u001b[0m \u001b[39mif\u001b[39;00m have_dicts:\n\u001b[1;32m    658\u001b[0m     \u001b[39mraise\u001b[39;00m \u001b[39mValueError\u001b[39;00m(\n\u001b[1;32m    659\u001b[0m         \u001b[39m\"\u001b[39m\u001b[39mMixing dicts with non-Series may lead to ambiguous ordering.\u001b[39m\u001b[39m\"\u001b[39m\n\u001b[1;32m    660\u001b[0m     )\n",
      "\u001b[0;31mValueError\u001b[0m: All arrays must be of the same length"
     ]
    }
   ],
   "source": [
    "import pandas as pd\n",
    "import plotly_express as px\n",
    "\n",
    "t = np.linspace(0, 0.01, len(a))\n",
    "df = pd.DataFrame({'Time': t, 'sine_440': a, 'transposed': shift})\n",
    "\n",
    "fig = px.line(df, x='Time', y=['sine_440', 'transposed'])\n",
    "\n",
    "fig.update_layout(\n",
    "    xaxis_title='Time (ms)',\n",
    "    yaxis_title='Amplitude')"
   ]
  },
  {
   "cell_type": "code",
   "execution_count": 6,
   "metadata": {},
   "outputs": [],
   "source": [
    "sd.play(shifted_audio)\n",
    "time.sleep(duration)"
   ]
  }
 ],
 "metadata": {
  "kernelspec": {
   "display_name": "venv",
   "language": "python",
   "name": "python3"
  },
  "language_info": {
   "codemirror_mode": {
    "name": "ipython",
    "version": 3
   },
   "file_extension": ".py",
   "mimetype": "text/x-python",
   "name": "python",
   "nbconvert_exporter": "python",
   "pygments_lexer": "ipython3",
   "version": "3.11.3"
  },
  "orig_nbformat": 4
 },
 "nbformat": 4,
 "nbformat_minor": 2
}
