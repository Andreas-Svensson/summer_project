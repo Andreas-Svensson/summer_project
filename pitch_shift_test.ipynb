{
 "cells": [
  {
   "cell_type": "code",
   "execution_count": 1,
   "metadata": {},
   "outputs": [],
   "source": [
    "import sounddevice as sd\n",
    "import time\n",
    "import numpy as np\n",
    "from scipy.signal import stft, istft"
   ]
  },
  {
   "cell_type": "markdown",
   "metadata": {},
   "source": [
    "# Record a 3 second voice clip"
   ]
  },
  {
   "cell_type": "code",
   "execution_count": 2,
   "metadata": {},
   "outputs": [],
   "source": [
    "fs = 44100\n",
    "duration = 3\n",
    "myrecording = sd.rec(int(duration * fs), samplerate=fs, channels=1)\n",
    "time.sleep(duration)"
   ]
  },
  {
   "cell_type": "markdown",
   "metadata": {},
   "source": [
    "## Shift pitch (changes audio duration)\n",
    "Function by Chat-GPT"
   ]
  },
  {
   "cell_type": "code",
   "execution_count": 3,
   "metadata": {},
   "outputs": [],
   "source": [
    "def pitch_shift(sound, semitone_shift):\n",
    "    # Calculate the speed change factor based on semitone_shift\n",
    "    speed_change = 2 ** (semitone_shift / 12.0)\n",
    "\n",
    "    # Set the length of the output sound array\n",
    "    n_samples = len(sound)\n",
    "    n_out = int(np.ceil(n_samples / speed_change))\n",
    "    out = np.zeros(n_out)\n",
    "\n",
    "    # Create a time index for the input sound array\n",
    "    time_in = np.arange(0, n_samples)\n",
    "\n",
    "    # Create a time index for the output sound array\n",
    "    time_out = np.arange(0, n_out) * speed_change\n",
    "\n",
    "    # Interpolate the input sound array to the output time index\n",
    "    out = np.interp(time_out, time_in, sound)\n",
    "\n",
    "    return out\n",
    "\n",
    "# Assuming your sound array is stored in a variable called \"sound_array\"\n",
    "semitone_shift = 3  # Adjust this value to change the pitch\n",
    "\n",
    "# Apply pitch shifting\n",
    "shifted_sound = pitch_shift(np.array(myrecording).flatten(), semitone_shift)\n"
   ]
  },
  {
   "cell_type": "code",
   "execution_count": 4,
   "metadata": {},
   "outputs": [],
   "source": [
    "sd.play(shifted_sound)\n",
    "time.sleep(duration)"
   ]
  },
  {
   "cell_type": "markdown",
   "metadata": {},
   "source": [
    "## Shift pitch (constant audio duration)\n",
    "Function by Chat-GPT"
   ]
  },
  {
   "cell_type": "code",
   "execution_count": 5,
   "metadata": {},
   "outputs": [],
   "source": [
    "def pitch_shift(audio, semitones, sampling_rate):\n",
    "    # Calculate the pitch shift factor\n",
    "    factor = 2 ** (semitones / 12)\n",
    "\n",
    "    # Perform Short-Time Fourier Transform (STFT)\n",
    "    _, _, stft_data = stft(audio, fs=sampling_rate)\n",
    "\n",
    "    # Modify the frequency bins based on the pitch shift factor\n",
    "    shifted_stft_data = np.zeros_like(stft_data)\n",
    "    num_bins = stft_data.shape[0]\n",
    "    for bin_index in range(num_bins):\n",
    "        shifted_bin_index = int(bin_index / factor)\n",
    "        if shifted_bin_index < num_bins:\n",
    "            shifted_stft_data[shifted_bin_index, :] += stft_data[bin_index, :]\n",
    "\n",
    "    # Perform the Inverse Short-Time Fourier Transform (ISTFT)\n",
    "    _, shifted_audio = istft(shifted_stft_data, fs=sampling_rate)\n",
    "\n",
    "    return shifted_audio\n",
    "\n",
    "semitones = -10  # Example: Shift up by 2 semitones, or -2 to shift down\n",
    "\n",
    "shifted_audio = pitch_shift(np.array(myrecording).flatten(), semitones, 44100)\n"
   ]
  },
  {
   "cell_type": "code",
   "execution_count": 6,
   "metadata": {},
   "outputs": [],
   "source": [
    "sd.play(shifted_audio)\n",
    "time.sleep(duration)"
   ]
  }
 ],
 "metadata": {
  "kernelspec": {
   "display_name": "venv",
   "language": "python",
   "name": "python3"
  },
  "language_info": {
   "codemirror_mode": {
    "name": "ipython",
    "version": 3
   },
   "file_extension": ".py",
   "mimetype": "text/x-python",
   "name": "python",
   "nbconvert_exporter": "python",
   "pygments_lexer": "ipython3",
   "version": "3.9.13"
  },
  "orig_nbformat": 4
 },
 "nbformat": 4,
 "nbformat_minor": 2
}
